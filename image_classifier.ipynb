{
  "nbformat": 4,
  "nbformat_minor": 0,
  "metadata": {
    "accelerator": "GPU",
    "colab": {
      "name": "image classifier.ipynb",
      "provenance": [],
      "collapsed_sections": []
    },
    "kernelspec": {
      "display_name": "Python 3",
      "name": "python3"
    },
    "language_info": {
      "name": "python"
    }
  },
  "cells": [
    {
      "cell_type": "code",
      "metadata": {
        "id": "hf7GEcuhIca1"
      },
      "source": [
        "import numpy as np\n",
        "import pandas as pd\n",
        "import matplotlib.pyplot as plt\n",
        "import seaborn as sns\n",
        "import os, random, cv2\n",
        "import imgaug.augmenters as iaa\n",
        "import imgaug.imgaug\n",
        "\n",
        "from IPython.display import SVG\n",
        "from tensorflow.keras.utils import plot_model, model_to_dot\n",
        "from sklearn.model_selection import train_test_split\n",
        "from collections import Counter\n",
        "from sklearn.utils import class_weight\n",
        "from tqdm import tqdm\n",
        "from sklearn.preprocessing import LabelBinarizer\n",
        "\n",
        "from tensorflow.keras.utils import to_categorical\n",
        "from tensorflow.keras.models import Sequential, Model\n",
        "from tensorflow.keras.layers import (Add, Input, Conv2D, Dropout, Activation, MaxPooling2D, Flatten, Dense)\n",
        "from tensorflow.keras.optimizers import Adam, SGD\n",
        "from tensorflow.keras.callbacks import TensorBoard, ModelCheckpoint, Callback\n",
        "from tensorflow.keras.preprocessing.image import ImageDataGenerator\n",
        "from tensorflow.keras.initializers import *"
      ],
      "execution_count": null,
      "outputs": []
    },
    {
      "cell_type": "code",
      "metadata": {
        "colab": {
          "base_uri": "https://localhost:8080/"
        },
        "id": "SOPKz2NgIhkJ",
        "outputId": "d388a919-92b5-44c7-c708-5ed39a7aa239"
      },
      "source": [
        "from google.colab import drive\n",
        "drive.mount('/content/drive')"
      ],
      "execution_count": null,
      "outputs": [
        {
          "output_type": "stream",
          "name": "stdout",
          "text": [
            "Drive already mounted at /content/drive; to attempt to forcibly remount, call drive.mount(\"/content/drive\", force_remount=True).\n"
          ]
        }
      ]
    },
    {
      "cell_type": "code",
      "metadata": {
        "colab": {
          "base_uri": "https://localhost:8080/"
        },
        "id": "mDoaxQU2JmcL",
        "outputId": "bc624731-2b00-4407-a3eb-da5bf202ba62"
      },
      "source": [
        "!unzip -u \"/content/drive/MyDrive/dataset/Ships in satellite images.zip\" -d \"/content/drive/MyDrive/dataset\""
      ],
      "execution_count": null,
      "outputs": [
        {
          "output_type": "stream",
          "name": "stdout",
          "text": [
            "Archive:  /content/drive/MyDrive/dataset/Ships in satellite images.zip\n"
          ]
        }
      ]
    },
    {
      "cell_type": "code",
      "metadata": {
        "colab": {
          "base_uri": "https://localhost:8080/"
        },
        "id": "TJezsLUnKJlI",
        "outputId": "9050acbc-4457-4ee6-b1f2-5a7a6593fff6"
      },
      "source": [
        "datasets=['/content/drive/MyDrive/dataset/Ships in satellite images']\n",
        "class_names = [\"no-ship\",\"ship\"]\n",
        "\n",
        "class_name_labels = {class_name:i for i,class_name in enumerate(class_names)}\n",
        "\n",
        "num_classes = len(class_names)\n",
        "class_name_labels"
      ],
      "execution_count": null,
      "outputs": [
        {
          "output_type": "execute_result",
          "data": {
            "text/plain": [
              "{'no-ship': 0, 'ship': 1}"
            ]
          },
          "metadata": {},
          "execution_count": 45
        }
      ]
    },
    {
      "cell_type": "code",
      "metadata": {
        "id": "HDwTX-1PKj9H"
      },
      "source": [
        "def load_data():\n",
        "    images, labels = [], []\n",
        "    \n",
        "    for dataset in datasets:\n",
        "        \n",
        "        for folder in os.listdir(dataset):\n",
        "            label = class_name_labels[folder]\n",
        "            \n",
        "            for file in tqdm(os.listdir(os.path.join(dataset,folder))):\n",
        "                \n",
        "                img_path = os.path.join(dataset,folder,file)\n",
        "                \n",
        "                \n",
        "                \n",
        "                img = cv2.imread(img_path)\n",
        "                img = cv2.cvtColor(img,cv2.COLOR_BGR2RGB)\n",
        "                img = cv2.resize(img, (64,64))\n",
        "                \n",
        "                images.append(img)\n",
        "                labels.append(label)\n",
        "                pass\n",
        "            pass\n",
        "        \n",
        "        images = np.array(images,dtype=np.float32)/255.0\n",
        "        labels = np.array(labels,dtype=np.float32)\n",
        "        pass\n",
        "    \n",
        "    return (images, labels)\n",
        "    pass"
      ],
      "execution_count": null,
      "outputs": []
    },
    {
      "cell_type": "code",
      "metadata": {
        "colab": {
          "base_uri": "https://localhost:8080/"
        },
        "id": "vIlVaJytKyXU",
        "outputId": "44468b1a-9bd2-49df-bebe-b2a455c84e6d"
      },
      "source": [
        "(images, labels) = load_data()\n",
        "images.shape, labels.shape"
      ],
      "execution_count": null,
      "outputs": [
        {
          "output_type": "stream",
          "name": "stderr",
          "text": [
            "100%|██████████| 1000/1000 [00:03<00:00, 258.50it/s]\n",
            "100%|██████████| 3000/3000 [00:11<00:00, 261.97it/s]\n"
          ]
        },
        {
          "output_type": "execute_result",
          "data": {
            "text/plain": [
              "((4000, 64, 64, 3), (4000,))"
            ]
          },
          "metadata": {},
          "execution_count": 47
        }
      ]
    },
    {
      "cell_type": "code",
      "metadata": {
        "colab": {
          "base_uri": "https://localhost:8080/",
          "height": 138
        },
        "id": "vQd1NtKtK2AC",
        "outputId": "4a910278-ba3b-4d36-c58a-092897ce3b0a"
      },
      "source": [
        "n_labels = labels.shape[0]\n",
        "\n",
        "_, count = np.unique(labels, return_counts=True)\n",
        "\n",
        "df = pd.DataFrame(data = count)\n",
        "df['Class Label'] = class_names\n",
        "df.columns = ['Count','Class-Label']\n",
        "df.set_index('Class-Label',inplace=True)\n",
        "df"
      ],
      "execution_count": null,
      "outputs": [
        {
          "output_type": "execute_result",
          "data": {
            "text/html": [
              "<div>\n",
              "<style scoped>\n",
              "    .dataframe tbody tr th:only-of-type {\n",
              "        vertical-align: middle;\n",
              "    }\n",
              "\n",
              "    .dataframe tbody tr th {\n",
              "        vertical-align: top;\n",
              "    }\n",
              "\n",
              "    .dataframe thead th {\n",
              "        text-align: right;\n",
              "    }\n",
              "</style>\n",
              "<table border=\"1\" class=\"dataframe\">\n",
              "  <thead>\n",
              "    <tr style=\"text-align: right;\">\n",
              "      <th></th>\n",
              "      <th>Count</th>\n",
              "    </tr>\n",
              "    <tr>\n",
              "      <th>Class-Label</th>\n",
              "      <th></th>\n",
              "    </tr>\n",
              "  </thead>\n",
              "  <tbody>\n",
              "    <tr>\n",
              "      <th>no-ship</th>\n",
              "      <td>3000</td>\n",
              "    </tr>\n",
              "    <tr>\n",
              "      <th>ship</th>\n",
              "      <td>1000</td>\n",
              "    </tr>\n",
              "  </tbody>\n",
              "</table>\n",
              "</div>"
            ],
            "text/plain": [
              "             Count\n",
              "Class-Label       \n",
              "no-ship       3000\n",
              "ship          1000"
            ]
          },
          "metadata": {},
          "execution_count": 48
        }
      ]
    },
    {
      "cell_type": "code",
      "metadata": {
        "colab": {
          "base_uri": "https://localhost:8080/",
          "height": 298
        },
        "id": "OPeLFiYbLHEb",
        "outputId": "c7b79887-d86d-4d85-87d1-1ae6afcfbef5"
      },
      "source": [
        "df.plot.bar(rot=0)\n",
        "plt.title(\"distribution of images per class\");"
      ],
      "execution_count": null,
      "outputs": [
        {
          "output_type": "display_data",
          "data": {
            "image/png": "[encoded data removed]",
            "text/plain": [
              "<Figure size 432x288 with 1 Axes>"
            ]
          },
          "metadata": {}
        }
      ]
    },
    {
      "cell_type": "code",
      "metadata": {
        "id": "-r5tFyPfLOPb"
      },
      "source": [
        "AUGMENTATION = True"
      ],
      "execution_count": null,
      "outputs": []
    },
    {
      "cell_type": "code",
      "metadata": {
        "id": "DqlipFVPLTUG"
      },
      "source": [
        "def augment_add(images, seq, labels):\n",
        "    \n",
        "    augmented_images, augmented_labels = [],[]\n",
        "    for idx,img in tqdm(enumerate(images)):\n",
        "        \n",
        "        if labels[idx] == 1:\n",
        "            image_aug_1 = seq.augment_image(image=img)\n",
        "            image_aug_2 = seq.augment_image(image=img)\n",
        "            augmented_images.append(image_aug_1)\n",
        "            augmented_images.append(image_aug_2)\n",
        "            augmented_labels.append(labels[idx])\n",
        "            augmented_labels.append(labels[idx])\n",
        "        pass\n",
        "    \n",
        "    augmented_images = np.array(augmented_images, dtype=np.float32)\n",
        "    augmented_labels = np.array(augmented_labels, dtype=np.float32)\n",
        "    \n",
        "    return (augmented_images, augmented_labels)\n",
        "    pass"
      ],
      "execution_count": null,
      "outputs": []
    },
    {
      "cell_type": "code",
      "metadata": {
        "id": "aY5d5orjLWYz"
      },
      "source": [
        "seq = iaa.Sequential([\n",
        "    iaa.Fliplr(0.5),\n",
        "    iaa.Crop(percent=(0,0.1)),\n",
        "    iaa.LinearContrast((0.75,1.5)),\n",
        "    iaa.Multiply((0.8,1.2), per_channel=0.2),\n",
        "    iaa.Affine(\n",
        "        scale={'x':(0.8,1.2), \"y\":(0.8,1.2)},\n",
        "        translate_percent={\"x\":(-0.2,0.2),\"y\":(-0.2,0.2)},\n",
        "        rotate=(-45,45),\n",
        "    )\n",
        "], random_order=True)"
      ],
      "execution_count": null,
      "outputs": []
    },
    {
      "cell_type": "code",
      "metadata": {
        "colab": {
          "base_uri": "https://localhost:8080/"
        },
        "id": "2KNbHi0dLgFB",
        "outputId": "6ff8fa7a-ab3b-44ce-d44d-ad98f35276a7"
      },
      "source": [
        "if AUGMENTATION:\n",
        "    (aug_images, aug_labels) = augment_add(images, seq, labels)\n",
        "    images = np.concatenate([images, aug_images])\n",
        "    labels = np.concatenate([labels, aug_labels])"
      ],
      "execution_count": null,
      "outputs": [
        {
          "output_type": "stream",
          "name": "stderr",
          "text": [
            "4000it [00:16, 249.25it/s]\n"
          ]
        }
      ]
    },
    {
      "cell_type": "code",
      "metadata": {
        "colab": {
          "base_uri": "https://localhost:8080/"
        },
        "id": "qH0HqEz2LkbV",
        "outputId": "6967a8be-3fa5-44be-971e-9d9f857734ad"
      },
      "source": [
        "images.shape, labels.shape"
      ],
      "execution_count": null,
      "outputs": [
        {
          "output_type": "execute_result",
          "data": {
            "text/plain": [
              "((6000, 64, 64, 3), (6000,))"
            ]
          },
          "metadata": {},
          "execution_count": 54
        }
      ]
    },
    {
      "cell_type": "code",
      "metadata": {
        "colab": {
          "base_uri": "https://localhost:8080/",
          "height": 257
        },
        "id": "TlxEn9n3LpBZ",
        "outputId": "b1d018d1-0968-4294-946b-ee381d23ec53"
      },
      "source": [
        "if AUGMENTATION:\n",
        "    _, count = np.unique(labels, return_counts=True)\n",
        "\n",
        "    plt.pie(count,\n",
        "           explode=(0,0),\n",
        "           labels=class_names,\n",
        "           autopct=\"%1.2f%%\")\n",
        "    plt.axis('equal');"
      ],
      "execution_count": null,
      "outputs": [
        {
          "output_type": "display_data",
          "data": {
            "image/png": "[encoded data removed]",
            "text/plain": [
              "<Figure size 432x288 with 1 Axes>"
            ]
          },
          "metadata": {}
        }
      ]
    },
    {
      "cell_type": "code",
      "metadata": {
        "id": "GYM8cSAILsUd"
      },
      "source": [
        "labels = to_categorical(labels)\n",
        "\n"
      ],
      "execution_count": null,
      "outputs": []
    },
    {
      "cell_type": "code",
      "metadata": {
        "id": "Us7TCJgOLwyv"
      },
      "source": [
        "np.random.seed(42)\n",
        "np.random.shuffle(images)\n",
        "\n",
        "np.random.seed(42)\n",
        "np.random.shuffle(labels)"
      ],
      "execution_count": null,
      "outputs": []
    },
    {
      "cell_type": "code",
      "metadata": {
        "colab": {
          "base_uri": "https://localhost:8080/"
        },
        "id": "syjsgUfGL3IW",
        "outputId": "2c682732-aebe-4478-c466-7bf951f4d02f"
      },
      "source": [
        "total_count = len(images)\n",
        "total_count\n",
        "\n",
        "train = int(0.7*total_count)\n",
        "val = int(0.2*total_count)\n",
        "test = int(0.1*total_count)\n",
        "\n",
        "train_images, train_labels = images[:train], labels[:train]\n",
        "val_images, val_labels = images[train:(val+train)], labels[train:(val+train)]\n",
        "test_images, test_labels = images[-test:], labels[-test:]\n",
        "\n",
        "train_images.shape, val_images.shape, test_images.shape"
      ],
      "execution_count": null,
      "outputs": [
        {
          "output_type": "execute_result",
          "data": {
            "text/plain": [
              "((4200, 64, 64, 3), (1200, 64, 64, 3), (600, 64, 64, 3))"
            ]
          },
          "metadata": {},
          "execution_count": 58
        }
      ]
    },
    {
      "cell_type": "code",
      "metadata": {
        "id": "QAt11l2hL6jg"
      },
      "source": [
        "import tensorflow as tf\n",
        "model = tf.keras.models.Sequential([\n",
        "\n",
        "tf.keras.layers.Conv2D(32, (3,3), activation='relu', input_shape=(64, 64, 3)),\n",
        "tf.keras.layers.MaxPooling2D(2, 2),\n",
        "\n",
        "tf.keras.layers.Conv2D(64, (3,3), activation='relu'),\n",
        "tf.keras.layers.MaxPooling2D(2,2),\n",
        "\n",
        "tf.keras.layers.Conv2D(128, (3,3), activation='relu'),\n",
        "tf.keras.layers.MaxPooling2D(2,2),\n",
        "\n",
        "tf.keras.layers.Conv2D(512, (3,3), activation='relu'),\n",
        "tf.keras.layers.MaxPooling2D(2,2),\n",
        "# Flatten the results to feed into a DNN\n",
        "tf.keras.layers.Flatten(),\n",
        "# 512 neuron hidden layer\n",
        "tf.keras.layers.Dense(512, activation='relu'),\n",
        "# Only 1 output neuron. It will contain a value from 0-1 where 0 for 1 class ('dandelions') and 1 for the other ('grass')\n",
        "tf.keras.layers.Dense(2, activation='sigmoid')])"
      ],
      "execution_count": null,
      "outputs": []
    },
    {
      "cell_type": "code",
      "metadata": {
        "id": "Dldxpid5MAD3"
      },
      "source": [
        "checkpoint = ModelCheckpoint(\"model_weights.h5\",monitor='val_accuracy',verbose=1,save_best_only=True,mode='max')\n",
        "logs = TensorBoard(\"logs\")"
      ],
      "execution_count": null,
      "outputs": []
    },
    {
      "cell_type": "code",
      "metadata": {
        "id": "lNc1kj7ENONM"
      },
      "source": [
        ""
      ],
      "execution_count": null,
      "outputs": []
    },
    {
      "cell_type": "code",
      "metadata": {
        "colab": {
          "base_uri": "https://localhost:8080/"
        },
        "id": "-NExh9HMNSli",
        "outputId": "08424919-49b9-4aef-9d2f-2855739ad7bf"
      },
      "source": [
        "\n",
        "\n",
        "model.summary()"
      ],
      "execution_count": null,
      "outputs": [
        {
          "output_type": "stream",
          "name": "stdout",
          "text": [
            "Model: \"sequential_1\"\n",
            "_________________________________________________________________\n",
            "Layer (type)                 Output Shape              Param #   \n",
            "=================================================================\n",
            "conv2d_4 (Conv2D)            (None, 62, 62, 32)        896       \n",
            "_________________________________________________________________\n",
            "max_pooling2d_4 (MaxPooling2 (None, 31, 31, 32)        0         \n",
            "_________________________________________________________________\n",
            "conv2d_5 (Conv2D)            (None, 29, 29, 64)        18496     \n",
            "_________________________________________________________________\n",
            "max_pooling2d_5 (MaxPooling2 (None, 14, 14, 64)        0         \n",
            "_________________________________________________________________\n",
            "conv2d_6 (Conv2D)            (None, 12, 12, 128)       73856     \n",
            "_________________________________________________________________\n",
            "max_pooling2d_6 (MaxPooling2 (None, 6, 6, 128)         0         \n",
            "_________________________________________________________________\n",
            "conv2d_7 (Conv2D)            (None, 4, 4, 512)         590336    \n",
            "_________________________________________________________________\n",
            "max_pooling2d_7 (MaxPooling2 (None, 2, 2, 512)         0         \n",
            "_________________________________________________________________\n",
            "flatten_1 (Flatten)          (None, 2048)              0         \n",
            "_________________________________________________________________\n",
            "dense_2 (Dense)              (None, 512)               1049088   \n",
            "_________________________________________________________________\n",
            "dense_3 (Dense)              (None, 2)                 1026      \n",
            "=================================================================\n",
            "Total params: 1,733,698\n",
            "Trainable params: 1,733,698\n",
            "Non-trainable params: 0\n",
            "_________________________________________________________________\n"
          ]
        }
      ]
    },
    {
      "cell_type": "code",
      "metadata": {
        "colab": {
          "base_uri": "https://localhost:8080/"
        },
        "id": "6v4NNwh0NVVX",
        "outputId": "ff6fbbdf-997b-4aae-b988-f9bbc544dce0"
      },
      "source": [
        "opt = Adam(lr=1e-3)\n",
        "model.compile(optimizer=opt,loss='binary_crossentropy',metrics=['accuracy'])"
      ],
      "execution_count": null,
      "outputs": [
        {
          "output_type": "stream",
          "name": "stderr",
          "text": [
            "/usr/local/lib/python3.7/dist-packages/keras/optimizer_v2/optimizer_v2.py:356: UserWarning: The `lr` argument is deprecated, use `learning_rate` instead.\n",
            "  \"The `lr` argument is deprecated, use `learning_rate` instead.\")\n"
          ]
        }
      ]
    },
    {
      "cell_type": "code",
      "metadata": {
        "id": "BCPY3DIRNal_"
      },
      "source": [
        ""
      ],
      "execution_count": null,
      "outputs": []
    },
    {
      "cell_type": "code",
      "metadata": {
        "colab": {
          "base_uri": "https://localhost:8080/"
        },
        "id": "88zIDH1jNeyP",
        "outputId": "62066ee0-cf3b-4a5d-ef71-a2d81663ea6f"
      },
      "source": [
        "epochs = 30\n",
        "batch_size = 32\n",
        "\n",
        "history = model.fit(train_images,train_labels,\n",
        "                   steps_per_epoch=len(train_images)//batch_size,\n",
        "                   epochs=epochs,\n",
        "                   verbose=1, \n",
        "                   validation_data=(val_images,val_labels),\n",
        "                   validation_steps=len(val_images)//batch_size,\n",
        "                   callbacks=[checkpoint, logs]\n",
        "                   )"
      ],
      "execution_count": null,
      "outputs": [
        {
          "output_type": "stream",
          "name": "stdout",
          "text": [
            "Epoch 1/30\n",
            "131/131 [==============================] - 4s 24ms/step - loss: 0.3629 - accuracy: 0.8341 - val_loss: 0.2549 - val_accuracy: 0.8892\n",
            "\n",
            "Epoch 00001: val_accuracy improved from -inf to 0.88917, saving model to model_weights.h5\n",
            "Epoch 2/30\n",
            "131/131 [==============================] - 2s 19ms/step - loss: 0.1742 - accuracy: 0.9307 - val_loss: 0.1295 - val_accuracy: 0.9533\n",
            "\n",
            "Epoch 00002: val_accuracy improved from 0.88917 to 0.95333, saving model to model_weights.h5\n",
            "Epoch 3/30\n",
            "131/131 [==============================] - 2s 18ms/step - loss: 0.1305 - accuracy: 0.9481 - val_loss: 0.1167 - val_accuracy: 0.9533\n",
            "\n",
            "Epoch 00003: val_accuracy did not improve from 0.95333\n",
            "Epoch 4/30\n",
            "131/131 [==============================] - 2s 19ms/step - loss: 0.1143 - accuracy: 0.9591 - val_loss: 0.1264 - val_accuracy: 0.9442\n",
            "\n",
            "Epoch 00004: val_accuracy did not improve from 0.95333\n",
            "Epoch 5/30\n",
            "131/131 [==============================] - 2s 19ms/step - loss: 0.0830 - accuracy: 0.9702 - val_loss: 0.0731 - val_accuracy: 0.9725\n",
            "\n",
            "Epoch 00005: val_accuracy improved from 0.95333 to 0.97250, saving model to model_weights.h5\n",
            "Epoch 6/30\n",
            "131/131 [==============================] - 2s 18ms/step - loss: 0.0674 - accuracy: 0.9777 - val_loss: 0.0635 - val_accuracy: 0.9733\n",
            "\n",
            "Epoch 00006: val_accuracy improved from 0.97250 to 0.97333, saving model to model_weights.h5\n",
            "Epoch 7/30\n",
            "131/131 [==============================] - 2s 18ms/step - loss: 0.0530 - accuracy: 0.9819 - val_loss: 0.0481 - val_accuracy: 0.9775\n",
            "\n",
            "Epoch 00007: val_accuracy improved from 0.97333 to 0.97750, saving model to model_weights.h5\n",
            "Epoch 8/30\n",
            "131/131 [==============================] - 2s 19ms/step - loss: 0.0354 - accuracy: 0.9874 - val_loss: 0.0472 - val_accuracy: 0.9792\n",
            "\n",
            "Epoch 00008: val_accuracy improved from 0.97750 to 0.97917, saving model to model_weights.h5\n",
            "Epoch 9/30\n",
            "131/131 [==============================] - 2s 18ms/step - loss: 0.0554 - accuracy: 0.9833 - val_loss: 0.0645 - val_accuracy: 0.9800\n",
            "\n",
            "Epoch 00009: val_accuracy improved from 0.97917 to 0.98000, saving model to model_weights.h5\n",
            "Epoch 10/30\n",
            "131/131 [==============================] - 2s 18ms/step - loss: 0.0353 - accuracy: 0.9863 - val_loss: 0.0545 - val_accuracy: 0.9808\n",
            "\n",
            "Epoch 00010: val_accuracy improved from 0.98000 to 0.98083, saving model to model_weights.h5\n",
            "Epoch 11/30\n",
            "131/131 [==============================] - 2s 18ms/step - loss: 0.0238 - accuracy: 0.9916 - val_loss: 0.0931 - val_accuracy: 0.9775\n",
            "\n",
            "Epoch 00011: val_accuracy did not improve from 0.98083\n",
            "Epoch 12/30\n",
            "131/131 [==============================] - 2s 19ms/step - loss: 0.0159 - accuracy: 0.9951 - val_loss: 0.0518 - val_accuracy: 0.9833\n",
            "\n",
            "Epoch 00012: val_accuracy improved from 0.98083 to 0.98333, saving model to model_weights.h5\n",
            "Epoch 13/30\n",
            "131/131 [==============================] - 2s 19ms/step - loss: 0.0231 - accuracy: 0.9923 - val_loss: 0.0480 - val_accuracy: 0.9850\n",
            "\n",
            "Epoch 00013: val_accuracy improved from 0.98333 to 0.98500, saving model to model_weights.h5\n",
            "Epoch 14/30\n",
            "131/131 [==============================] - 3s 19ms/step - loss: 0.0107 - accuracy: 0.9960 - val_loss: 0.0360 - val_accuracy: 0.9875\n",
            "\n",
            "Epoch 00014: val_accuracy improved from 0.98500 to 0.98750, saving model to model_weights.h5\n",
            "Epoch 15/30\n",
            "131/131 [==============================] - 2s 18ms/step - loss: 0.0216 - accuracy: 0.9921 - val_loss: 0.0565 - val_accuracy: 0.9833\n",
            "\n",
            "Epoch 00015: val_accuracy did not improve from 0.98750\n",
            "Epoch 16/30\n",
            "131/131 [==============================] - 3s 19ms/step - loss: 0.0159 - accuracy: 0.9946 - val_loss: 0.1562 - val_accuracy: 0.9792\n",
            "\n",
            "Epoch 00016: val_accuracy did not improve from 0.98750\n",
            "Epoch 17/30\n",
            "131/131 [==============================] - 2s 19ms/step - loss: 0.0189 - accuracy: 0.9923 - val_loss: 0.1609 - val_accuracy: 0.9792\n",
            "\n",
            "Epoch 00017: val_accuracy did not improve from 0.98750\n",
            "Epoch 18/30\n",
            "131/131 [==============================] - 2s 19ms/step - loss: 0.0118 - accuracy: 0.9963 - val_loss: 0.0575 - val_accuracy: 0.9867\n",
            "\n",
            "Epoch 00018: val_accuracy did not improve from 0.98750\n",
            "Epoch 19/30\n",
            "131/131 [==============================] - 2s 18ms/step - loss: 0.0111 - accuracy: 0.9951 - val_loss: 0.0656 - val_accuracy: 0.9825\n",
            "\n",
            "Epoch 00019: val_accuracy did not improve from 0.98750\n",
            "Epoch 20/30\n",
            "131/131 [==============================] - 2s 19ms/step - loss: 0.0029 - accuracy: 0.9993 - val_loss: 0.0602 - val_accuracy: 0.9842\n",
            "\n",
            "Epoch 00020: val_accuracy did not improve from 0.98750\n",
            "Epoch 21/30\n",
            "131/131 [==============================] - 3s 19ms/step - loss: 3.5524e-04 - accuracy: 1.0000 - val_loss: 0.0560 - val_accuracy: 0.9867\n",
            "\n",
            "Epoch 00021: val_accuracy did not improve from 0.98750\n",
            "Epoch 22/30\n",
            "131/131 [==============================] - 2s 18ms/step - loss: 1.2378e-04 - accuracy: 1.0000 - val_loss: 0.0576 - val_accuracy: 0.9875\n",
            "\n",
            "Epoch 00022: val_accuracy did not improve from 0.98750\n",
            "Epoch 23/30\n",
            "131/131 [==============================] - 2s 18ms/step - loss: 9.6830e-05 - accuracy: 1.0000 - val_loss: 0.0593 - val_accuracy: 0.9875\n",
            "\n",
            "Epoch 00023: val_accuracy did not improve from 0.98750\n",
            "Epoch 24/30\n",
            "131/131 [==============================] - 2s 18ms/step - loss: 3.8514e-05 - accuracy: 1.0000 - val_loss: 0.0569 - val_accuracy: 0.9867\n",
            "\n",
            "Epoch 00024: val_accuracy did not improve from 0.98750\n",
            "Epoch 25/30\n",
            "131/131 [==============================] - 2s 18ms/step - loss: 5.9767e-05 - accuracy: 1.0000 - val_loss: 0.0607 - val_accuracy: 0.9875\n",
            "\n",
            "Epoch 00025: val_accuracy did not improve from 0.98750\n",
            "Epoch 26/30\n",
            "131/131 [==============================] - 2s 19ms/step - loss: 3.8423e-05 - accuracy: 1.0000 - val_loss: 0.0620 - val_accuracy: 0.9875\n",
            "\n",
            "Epoch 00026: val_accuracy did not improve from 0.98750\n",
            "Epoch 27/30\n",
            "131/131 [==============================] - 2s 18ms/step - loss: 3.2243e-05 - accuracy: 1.0000 - val_loss: 0.0627 - val_accuracy: 0.9875\n",
            "\n",
            "Epoch 00027: val_accuracy did not improve from 0.98750\n",
            "Epoch 28/30\n",
            "131/131 [==============================] - 2s 18ms/step - loss: 3.2133e-05 - accuracy: 1.0000 - val_loss: 0.0625 - val_accuracy: 0.9875\n",
            "\n",
            "Epoch 00028: val_accuracy did not improve from 0.98750\n",
            "Epoch 29/30\n",
            "131/131 [==============================] - 2s 19ms/step - loss: 3.0853e-05 - accuracy: 1.0000 - val_loss: 0.0646 - val_accuracy: 0.9875\n",
            "\n",
            "Epoch 00029: val_accuracy did not improve from 0.98750\n",
            "Epoch 30/30\n",
            " 40/131 [========>.....................] - ETA: 1s - loss: 1.9432e-05 - accuracy: 1.0000WARNING:tensorflow:Your input ran out of data; interrupting training. Make sure that your dataset or generator can generate at least `steps_per_epoch * epochs` batches (in this case, 3930 batches). You may need to use the repeat() function when building your dataset.\n",
            "131/131 [==============================] - 1s 7ms/step - loss: 1.9871e-05 - accuracy: 1.0000 - val_loss: 0.0642 - val_accuracy: 0.9875\n",
            "\n",
            "Epoch 00030: val_accuracy did not improve from 0.98750\n"
          ]
        }
      ]
    },
    {
      "cell_type": "code",
      "metadata": {
        "id": "sFZ2DX8dd68S"
      },
      "source": [
        "test_pred = model.predict(test_images)\n",
        "test_pred = np.argmax(test_pred,axis=1)"
      ],
      "execution_count": null,
      "outputs": []
    },
    {
      "cell_type": "code",
      "metadata": {
        "id": "b6uzKOh1eRnK"
      },
      "source": [
        "def plot_confusion_matrix(cm,classes,title='Confusion Matrix',cmap=plt.cm.Blues):\n",
        "    \n",
        "#     np.seterr(divide='ignore',invalid='ignore')\n",
        "    cm = cm.astype('float')/cm.sum(axis=1)[:,np.newaxis]\n",
        "    plt.figure(figsize=(10,10))\n",
        "    plt.imshow(cm,interpolation='nearest',cmap=cmap)\n",
        "    plt.title(title)\n",
        "    plt.colorbar()\n",
        "    tick_marks = np.arange(len(classes))\n",
        "    plt.xticks(tick_marks, classes,rotation=45)\n",
        "    plt.yticks(tick_marks, classes)\n",
        "    \n",
        "    fmt = '.2f'\n",
        "    thresh = cm.max()/2.\n",
        "    for i,j in itertools.product(range(cm.shape[0]),range(cm.shape[1])):\n",
        "        plt.text(j,i,format(cm[i,j],fmt),\n",
        "                horizontalalignment=\"center\",\n",
        "                color=\"white\" if cm[i,j] > thresh else \"black\")\n",
        "        pass\n",
        "    \n",
        "    plt.ylabel('True Label')\n",
        "    plt.xlabel('Predicted Label')\n",
        "    pass"
      ],
      "execution_count": null,
      "outputs": []
    },
    {
      "cell_type": "code",
      "metadata": {
        "colab": {
          "base_uri": "https://localhost:8080/",
          "height": 1000
        },
        "id": "ncMrNn_VNiSF",
        "outputId": "498d0652-9fbe-48ea-8bf8-116a2ffbc573"
      },
      "source": [
        "from sklearn.metrics import confusion_matrix\n",
        "test_actual = np.argmax(test_labels,axis=1)\n",
        "\n",
        "cnf_mat_test = confusion_matrix(test_actual, test_pred)\n",
        "np.set_printoptions(precision=2)\n",
        "\n",
        "plt.figure()\n",
        "plot_confusion_matrix(cnf_mat_test,classes=class_names)\n",
        "plt.grid(None)\n",
        "plt.show()\n",
        "rnd_idx = random.sample(range(0,400),2)\n",
        "\n",
        "class_labels = {i:class_name for (class_name,i) in class_name_labels.items()}\n",
        "class_labels\n",
        "\n",
        "# fig, ax = plt.subplots(2,5,figsize=(5,5))\n",
        "\n",
        "for i,idx in enumerate(rnd_idx):\n",
        "    \n",
        "    plt.imshow(test_images[idx])\n",
        "    plt.title(\"Actual: {}\\nPredicted: {}\".format(class_labels[test_actual[idx]],class_labels[test_pred[idx]]))\n",
        "    plt.grid(None)\n",
        "    plt.show()\n",
        "    pass"
      ],
      "execution_count": null,
      "outputs": [
        {
          "output_type": "display_data",
          "data": {
            "text/plain": [
              "<Figure size 432x288 with 0 Axes>"
            ]
          },
          "metadata": {}
        },
        {
          "output_type": "display_data",
          "data": {
            "image/png": "[encoded data removed]",
            "text/plain": [
              "<Figure size 720x720 with 2 Axes>"
            ]
          },
          "metadata": {}
        },
        {
          "output_type": "display_data",
          "data": {
            "image/png": "[encoded data removed]",
            "text/plain": [
              "<Figure size 432x288 with 1 Axes>"
            ]
          },
          "metadata": {}
        },
        {
          "output_type": "display_data",
          "data": {
            "image/png": "[encoded data removed]",
            "text/plain": [
              "<Figure size 432x288 with 1 Axes>"
            ]
          },
          "metadata": {}
        }
      ]
    },
    {
      "cell_type": "code",
      "metadata": {
        "colab": {
          "base_uri": "https://localhost:8080/",
          "height": 337
        },
        "id": "uqXV4RDAvtwS",
        "outputId": "f976092f-5cdd-4c63-c4aa-1d4ec4475472"
      },
      "source": [
        "def show_final_history(history):\n",
        "    \n",
        "    plt.style.use(\"ggplot\")\n",
        "    fig, ax = plt.subplots(1,2,figsize=(15,5))\n",
        "    ax[0].set_title('Loss')\n",
        "    ax[1].set_title('Accuracy')\n",
        "    ax[0].plot(history.history['loss'],label='Train Loss')\n",
        "    ax[0].plot(history.history['val_loss'],label='Validation Loss')\n",
        "    ax[1].plot(history.history['accuracy'],label='Train Accuracy')\n",
        "    ax[1].plot(history.history['val_accuracy'],label='Validation Accuracy')\n",
        "    \n",
        "    ax[0].legend(loc='upper right')\n",
        "    ax[1].legend(loc='lower right')\n",
        "    plt.show();\n",
        "    pass\n",
        "show_final_history(history)"
      ],
      "execution_count": null,
      "outputs": [
        {
          "output_type": "display_data",
          "data": {
            "image/png": "[encoded data removed]",
            "text/plain": [
              "<Figure size 1080x360 with 2 Axes>"
            ]
          },
          "metadata": {}
        }
      ]
    },
    {
      "cell_type": "code",
      "metadata": {
        "id": "2tmhQHjvdjRV"
      },
      "source": [
        "model.save(\"ship-model.h5\")\n"
      ],
      "execution_count": null,
      "outputs": []
    },
    {
      "cell_type": "code",
      "metadata": {
        "id": "rjqiEaFUvsvZ"
      },
      "source": [
        ""
      ],
      "execution_count": null,
      "outputs": []
    },
    {
      "cell_type": "code",
      "metadata": {
        "id": "I9YaZuKGuRjC"
      },
      "source": [
        ""
      ],
      "execution_count": null,
      "outputs": []
    }
  ]
}